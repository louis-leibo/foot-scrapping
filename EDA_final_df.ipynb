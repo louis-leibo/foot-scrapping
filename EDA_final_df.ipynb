{
 "cells": [
  {
   "cell_type": "code",
   "execution_count": 24,
   "id": "854393fb",
   "metadata": {},
   "outputs": [],
   "source": [
    "import pandas as pd\n",
    "import pandas as pd\n",
    "import numpy as np\n",
    "import seaborn as sns\n",
    "import matplotlib.pyplot as plt\n",
    "import plotly.express as px\n",
    "import plotly.graph_objects as go\n",
    "\n",
    "df = pd.read_csv(\"Data_merged_with_market_value/all_leagues_merged_final_df.csv\")"
   ]
  },
  {
   "cell_type": "code",
   "execution_count": 25,
   "id": "616343cb",
   "metadata": {},
   "outputs": [
    {
     "name": "stdout",
     "output_type": "stream",
     "text": [
      "\n",
      "Data Types:\n",
      " int64      74\n",
      "float64    37\n",
      "object     15\n",
      "Name: count, dtype: int64\n"
     ]
    }
   ],
   "source": [
    "print(\"\\nData Types:\\n\", df.dtypes.value_counts())"
   ]
  },
  {
   "cell_type": "code",
   "execution_count": 26,
   "id": "bb105710",
   "metadata": {},
   "outputs": [
    {
     "name": "stdout",
     "output_type": "stream",
     "text": [
      "\n",
      "📉 Missing Values (%):\n",
      "Series([], dtype: float64)\n"
     ]
    }
   ],
   "source": [
    "# -----------------------------\n",
    "# Missing Values\n",
    "# -----------------------------\n",
    "print(\"\\n📉 Missing Values (%):\")\n",
    "missing_percent = df.isnull().mean() * 100\n",
    "missing_percent = missing_percent[missing_percent > 0].sort_values(ascending=True)\n",
    "print(missing_percent)"
   ]
  },
  {
   "cell_type": "code",
   "execution_count": 27,
   "id": "a8caad73",
   "metadata": {},
   "outputs": [
    {
     "name": "stdout",
     "output_type": "stream",
     "text": [
      "✅ Kept 126 columns out of 126\n",
      "🗑️ Removed 0 columns with more than 20% missing values\n"
     ]
    }
   ],
   "source": [
    "# Replace common \"bad\" missing value placeholders with real NaN\n",
    "df.replace([\"\", \" \", \"NA\", \"N/A\", \"na\", \"n/a\", \"null\", \"NULL\"], np.nan, inplace=True)\n",
    "\n",
    "# Calculate missing value percentages\n",
    "missing_percent = df.isna().mean() * 100\n",
    "\n",
    "# Filter columns with <= 20% missing values\n",
    "columns_to_keep = missing_percent[missing_percent <= 20].index\n",
    "\n",
    "# Drop columns with > 20% missing\n",
    "df_cleaned = df[columns_to_keep]\n",
    "\n",
    "# Report\n",
    "print(f\"✅ Kept {len(columns_to_keep)} columns out of {df.shape[1]}\")\n",
    "print(f\"🗑️ Removed {df.shape[1] - len(columns_to_keep)} columns with more than 20% missing values\")\n"
   ]
  },
  {
   "cell_type": "code",
   "execution_count": 28,
   "id": "ee52540d",
   "metadata": {},
   "outputs": [
    {
     "name": "stdout",
     "output_type": "stream",
     "text": [
      "\n",
      "📉 Missing Values (%):\n",
      "Series([], dtype: float64)\n"
     ]
    }
   ],
   "source": [
    "print(\"\\n📉 Missing Values (%):\")\n",
    "missing_percent = df_cleaned.isnull().mean() * 100\n",
    "missing_percent = missing_percent[missing_percent > 0].sort_values(ascending=True)\n",
    "print(missing_percent)"
   ]
  },
  {
   "cell_type": "code",
   "execution_count": 29,
   "id": "738f8d26",
   "metadata": {},
   "outputs": [
    {
     "name": "stdout",
     "output_type": "stream",
     "text": [
      "Removed specified columns. Remaining columns: 126\n"
     ]
    }
   ],
   "source": [
    "# Columns to remove\n",
    "columns_to_drop = [\n",
    "    \"stat_type_defense\",\n",
    "    \"stat_type_shooting\",\n",
    "    \"stat_type_passing\",\n",
    "    \"stat_type_misc\",\n",
    "    \"stat_type_possession\",\n",
    "    \"player_norm_x\",\n",
    "    \"player_matched\",\n",
    "    \"player_norm_y\"\n",
    "]\n",
    "\n",
    "# Drop them if they exist in the DataFrame\n",
    "df_cleaned = df_cleaned.drop(columns=[col for col in columns_to_drop if col in df_cleaned.columns])\n",
    "\n",
    "print(f\"Removed specified columns. Remaining columns: {df_cleaned.shape[1]}\")\n"
   ]
  },
  {
   "cell_type": "code",
   "execution_count": 30,
   "id": "36233816",
   "metadata": {},
   "outputs": [
    {
     "name": "stdout",
     "output_type": "stream",
     "text": [
      "✅ Removed 8 columns. Remaining columns: 106\n"
     ]
    }
   ],
   "source": [
    "columns_to_drop_2 = [\n",
    "    \"nation_defense\", \"pos_defense\", \"age_defense\", \"born_defense\",\n",
    "    \"nation_shooting\", \"pos_shooting\", \"age_shooting\", \"born_shooting\",\n",
    "    \"nation_passing\", \"pos_passing\", \"age_passing\", \"born_passing\",\n",
    "    \"nation_misc\", \"pos_misc\", \"age_misc\", \"born_misc\",\n",
    "    \"nation_possession\", \"pos_possession\", \"age_possession\", \"born_possession\"\n",
    "]\n",
    "\n",
    "# Remove them from the dataframe\n",
    "df_cleaned = df_cleaned.drop(columns=[col for col in columns_to_drop_2 if col in df_cleaned.columns])\n",
    "\n",
    "print(f\"✅ Removed {len(columns_to_drop)} columns. Remaining columns: {df_cleaned.shape[1]}\")\n"
   ]
  },
  {
   "cell_type": "code",
   "execution_count": 31,
   "id": "190ad89c",
   "metadata": {},
   "outputs": [
    {
     "name": "stdout",
     "output_type": "stream",
     "text": [
      "Cleaned dataset saved to: Data_merged_with_market_value/all_leagues_merged_final_df.csv\n"
     ]
    }
   ],
   "source": [
    "# Export the cleaned DataFrame to a CSV file\n",
    "output_path = \"Data_merged_with_market_value/all_leagues_merged_final_df.csv\"\n",
    "df_cleaned.to_csv(output_path, index=False)\n",
    "\n",
    "print(f\"Cleaned dataset saved to: {output_path}\")\n"
   ]
  }
 ],
 "metadata": {
  "kernelspec": {
   "display_name": "venv",
   "language": "python",
   "name": "python3"
  },
  "language_info": {
   "codemirror_mode": {
    "name": "ipython",
    "version": 3
   },
   "file_extension": ".py",
   "mimetype": "text/x-python",
   "name": "python",
   "nbconvert_exporter": "python",
   "pygments_lexer": "ipython3",
   "version": "3.12.3"
  }
 },
 "nbformat": 4,
 "nbformat_minor": 5
}
