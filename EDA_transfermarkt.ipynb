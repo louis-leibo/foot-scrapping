{
 "cells": [
  {
   "cell_type": "code",
   "execution_count": 2,
   "id": "f6e45575",
   "metadata": {},
   "outputs": [
    {
     "name": "stdout",
     "output_type": "stream",
     "text": [
      "✅ ligue1: Loaded and converted market values.\n",
      "✅ premier_league: Loaded and converted market values.\n",
      "✅ serieA: Loaded and converted market values.\n",
      "✅ bundesliga: Loaded and converted market values.\n",
      "✅ liga: Loaded and converted market values.\n"
     ]
    }
   ],
   "source": [
    "import pandas as pd\n",
    "import numpy as np\n",
    "import os\n",
    "\n",
    "# ✅ Use a dictionary (league name : file path)\n",
    "file_paths = {\n",
    "    \"ligue1\": \"Transfermarkt-data/valeurs_marchandes_ligue1.csv\",\n",
    "    \"premier_league\": \"Transfermarkt-data/valeurs_marchandes_premier_league.csv\",\n",
    "    \"serieA\": \"Transfermarkt-data/valeurs_marchandes_serieA.csv\",\n",
    "    \"bundesliga\": \"Transfermarkt-data/valeurs_marchandes_bundesliga.csv\",\n",
    "    \"liga\": \"Transfermarkt-data/valeurs_marchandes_liga.csv\"\n",
    "}\n",
    "\n",
    "# Function to convert 'Valeur marchande' to euros\n",
    "def convert_market_value(value):\n",
    "    if pd.isna(value):\n",
    "        return np.nan\n",
    "    value = value.replace(\"€\", \"\").replace(\".\", \"\").strip()\n",
    "    try:\n",
    "        if \"mio\" in value:\n",
    "            return float(value.replace(\"mio\", \"\").replace(\",\", \".\").strip()) * 1_000_000\n",
    "        elif \"K\" in value:\n",
    "            return float(value.replace(\"K\", \"\").replace(\",\", \".\").strip()) * 1_000\n",
    "        else:\n",
    "            return float(value.replace(\",\", \".\"))\n",
    "    except:\n",
    "        return np.nan\n",
    "\n",
    "# Load, clean, and store DataFrames\n",
    "dfs = {}\n",
    "for league, path in file_paths.items():\n",
    "    try:\n",
    "        df = pd.read_csv(path)\n",
    "\n",
    "        # Convert market value column\n",
    "        df[\"Valeur marchande (euros)\"] = df[\"Valeur marchande\"].apply(convert_market_value)\n",
    "\n",
    "        dfs[league] = df\n",
    "        print(f\"✅ {league}: Loaded and converted market values.\")\n",
    "    except Exception as e:\n",
    "        print(f\"⚠️ Error processing {league}: {e}\")\n"
   ]
  },
  {
   "cell_type": "code",
   "execution_count": 5,
   "id": "4d9e97d2",
   "metadata": {},
   "outputs": [
    {
     "data": {
      "text/html": [
       "<div>\n",
       "<style scoped>\n",
       "    .dataframe tbody tr th:only-of-type {\n",
       "        vertical-align: middle;\n",
       "    }\n",
       "\n",
       "    .dataframe tbody tr th {\n",
       "        vertical-align: top;\n",
       "    }\n",
       "\n",
       "    .dataframe thead th {\n",
       "        text-align: right;\n",
       "    }\n",
       "</style>\n",
       "<table border=\"1\" class=\"dataframe\">\n",
       "  <thead>\n",
       "    <tr style=\"text-align: right;\">\n",
       "      <th></th>\n",
       "      <th>Saison</th>\n",
       "      <th>Équipe</th>\n",
       "      <th>Nom</th>\n",
       "      <th>Valeur marchande</th>\n",
       "      <th>Valeur marchande (euros)</th>\n",
       "    </tr>\n",
       "  </thead>\n",
       "  <tbody>\n",
       "    <tr>\n",
       "      <th>0</th>\n",
       "      <td>2020/2021</td>\n",
       "      <td>manchester-city</td>\n",
       "      <td>Ederson</td>\n",
       "      <td>50,00 mio. €</td>\n",
       "      <td>50000000.0</td>\n",
       "    </tr>\n",
       "    <tr>\n",
       "      <th>1</th>\n",
       "      <td>2020/2021</td>\n",
       "      <td>manchester-city</td>\n",
       "      <td>Zack Steffen</td>\n",
       "      <td>6,00 mio. €</td>\n",
       "      <td>6000000.0</td>\n",
       "    </tr>\n",
       "    <tr>\n",
       "      <th>2</th>\n",
       "      <td>2020/2021</td>\n",
       "      <td>manchester-city</td>\n",
       "      <td>Scott Carson</td>\n",
       "      <td>300 K €</td>\n",
       "      <td>300000.0</td>\n",
       "    </tr>\n",
       "    <tr>\n",
       "      <th>3</th>\n",
       "      <td>2020/2021</td>\n",
       "      <td>manchester-city</td>\n",
       "      <td>James Trafford</td>\n",
       "      <td>-</td>\n",
       "      <td>NaN</td>\n",
       "    </tr>\n",
       "    <tr>\n",
       "      <th>4</th>\n",
       "      <td>2020/2021</td>\n",
       "      <td>manchester-city</td>\n",
       "      <td>Rúben Dias</td>\n",
       "      <td>75,00 mio. €</td>\n",
       "      <td>75000000.0</td>\n",
       "    </tr>\n",
       "  </tbody>\n",
       "</table>\n",
       "</div>"
      ],
      "text/plain": [
       "      Saison           Équipe             Nom Valeur marchande  \\\n",
       "0  2020/2021  manchester-city         Ederson     50,00 mio. €   \n",
       "1  2020/2021  manchester-city    Zack Steffen      6,00 mio. €   \n",
       "2  2020/2021  manchester-city    Scott Carson          300 K €   \n",
       "3  2020/2021  manchester-city  James Trafford                -   \n",
       "4  2020/2021  manchester-city      Rúben Dias     75,00 mio. €   \n",
       "\n",
       "   Valeur marchande (euros)  \n",
       "0                50000000.0  \n",
       "1                 6000000.0  \n",
       "2                  300000.0  \n",
       "3                       NaN  \n",
       "4                75000000.0  "
      ]
     },
     "execution_count": 5,
     "metadata": {},
     "output_type": "execute_result"
    }
   ],
   "source": [
    "dfs[\"premier_league\"].head()\n"
   ]
  },
  {
   "cell_type": "code",
   "execution_count": 6,
   "id": "9c5cc975",
   "metadata": {},
   "outputs": [
    {
     "name": "stdout",
     "output_type": "stream",
     "text": [
      "🧹 Dropped 'Valeur marchande' from ligue1\n",
      "🧹 Dropped 'Valeur marchande' from premier_league\n",
      "🧹 Dropped 'Valeur marchande' from serieA\n",
      "🧹 Dropped 'Valeur marchande' from bundesliga\n",
      "🧹 Dropped 'Valeur marchande' from liga\n"
     ]
    }
   ],
   "source": [
    "for league, df in dfs.items():\n",
    "    if \"Valeur marchande\" in df.columns:\n",
    "        df.drop(columns=[\"Valeur marchande\"], inplace=True)\n",
    "        print(f\"🧹 Dropped 'Valeur marchande' from {league}\")\n",
    "    else:\n",
    "        print(f\"ℹ️ Column 'Valeur marchande' not found in {league}\")"
   ]
  },
  {
   "cell_type": "code",
   "execution_count": 7,
   "id": "0b15a2d5",
   "metadata": {},
   "outputs": [
    {
     "data": {
      "text/html": [
       "<div>\n",
       "<style scoped>\n",
       "    .dataframe tbody tr th:only-of-type {\n",
       "        vertical-align: middle;\n",
       "    }\n",
       "\n",
       "    .dataframe tbody tr th {\n",
       "        vertical-align: top;\n",
       "    }\n",
       "\n",
       "    .dataframe thead th {\n",
       "        text-align: right;\n",
       "    }\n",
       "</style>\n",
       "<table border=\"1\" class=\"dataframe\">\n",
       "  <thead>\n",
       "    <tr style=\"text-align: right;\">\n",
       "      <th></th>\n",
       "      <th>Saison</th>\n",
       "      <th>Équipe</th>\n",
       "      <th>Nom</th>\n",
       "      <th>Valeur marchande (euros)</th>\n",
       "    </tr>\n",
       "  </thead>\n",
       "  <tbody>\n",
       "    <tr>\n",
       "      <th>0</th>\n",
       "      <td>2020/2021</td>\n",
       "      <td>manchester-city</td>\n",
       "      <td>Ederson</td>\n",
       "      <td>50000000.0</td>\n",
       "    </tr>\n",
       "    <tr>\n",
       "      <th>1</th>\n",
       "      <td>2020/2021</td>\n",
       "      <td>manchester-city</td>\n",
       "      <td>Zack Steffen</td>\n",
       "      <td>6000000.0</td>\n",
       "    </tr>\n",
       "    <tr>\n",
       "      <th>2</th>\n",
       "      <td>2020/2021</td>\n",
       "      <td>manchester-city</td>\n",
       "      <td>Scott Carson</td>\n",
       "      <td>300000.0</td>\n",
       "    </tr>\n",
       "    <tr>\n",
       "      <th>3</th>\n",
       "      <td>2020/2021</td>\n",
       "      <td>manchester-city</td>\n",
       "      <td>James Trafford</td>\n",
       "      <td>NaN</td>\n",
       "    </tr>\n",
       "    <tr>\n",
       "      <th>4</th>\n",
       "      <td>2020/2021</td>\n",
       "      <td>manchester-city</td>\n",
       "      <td>Rúben Dias</td>\n",
       "      <td>75000000.0</td>\n",
       "    </tr>\n",
       "  </tbody>\n",
       "</table>\n",
       "</div>"
      ],
      "text/plain": [
       "      Saison           Équipe             Nom  Valeur marchande (euros)\n",
       "0  2020/2021  manchester-city         Ederson                50000000.0\n",
       "1  2020/2021  manchester-city    Zack Steffen                 6000000.0\n",
       "2  2020/2021  manchester-city    Scott Carson                  300000.0\n",
       "3  2020/2021  manchester-city  James Trafford                       NaN\n",
       "4  2020/2021  manchester-city      Rúben Dias                75000000.0"
      ]
     },
     "execution_count": 7,
     "metadata": {},
     "output_type": "execute_result"
    }
   ],
   "source": [
    "dfs[\"premier_league\"].head()\n"
   ]
  },
  {
   "cell_type": "code",
   "execution_count": 8,
   "id": "462e06f8",
   "metadata": {},
   "outputs": [
    {
     "name": "stdout",
     "output_type": "stream",
     "text": [
      "\n",
      "📊 Missing values in LIGUE1 (%):\n",
      "Valeur marchande (euros)    3.83\n",
      "dtype: float64\n",
      "\n",
      "📊 Missing values in PREMIER_LEAGUE (%):\n",
      "Valeur marchande (euros)    8.3\n",
      "dtype: float64\n",
      "\n",
      "📊 Missing values in SERIEA (%):\n",
      "Valeur marchande (euros)    2.92\n",
      "dtype: float64\n",
      "\n",
      "📊 Missing values in BUNDESLIGA (%):\n",
      "Valeur marchande (euros)    2.08\n",
      "dtype: float64\n",
      "\n",
      "📊 Missing values in LIGA (%):\n",
      "Valeur marchande (euros)    5.7\n",
      "dtype: float64\n"
     ]
    }
   ],
   "source": [
    "for league, df in dfs.items():\n",
    "    print(f\"\\n📊 Missing values in {league.upper()} (%):\")\n",
    "    \n",
    "    # Calculate % of missing values\n",
    "    missing_percent = df.isnull().mean() * 100\n",
    "    \n",
    "    # Show only columns with missing values\n",
    "    missing_percent = missing_percent[missing_percent > 0].sort_values(ascending=False)\n",
    "    \n",
    "    if missing_percent.empty:\n",
    "        print(\"✅ No missing values.\")\n",
    "    else:\n",
    "        print(missing_percent.round(2))\n"
   ]
  },
  {
   "cell_type": "code",
   "execution_count": 9,
   "id": "387b548a",
   "metadata": {},
   "outputs": [
    {
     "name": "stdout",
     "output_type": "stream",
     "text": [
      "🧹 ligue1: Dropped 113 rows with missing market value\n",
      "🧹 premier_league: Dropped 274 rows with missing market value\n",
      "🧹 serieA: Dropped 71 rows with missing market value\n",
      "🧹 bundesliga: Dropped 53 rows with missing market value\n",
      "🧹 liga: Dropped 174 rows with missing market value\n"
     ]
    }
   ],
   "source": [
    "# drop rows with missing valeur marchande euros value : \n",
    "for league, df in dfs.items():\n",
    "    initial_shape = df.shape\n",
    "    df.dropna(subset=[\"Valeur marchande (euros)\"], inplace=True)\n",
    "    dfs[league] = df  # update cleaned DataFrame\n",
    "    final_shape = df.shape\n",
    "    print(f\"🧹 {league}: Dropped {initial_shape[0] - final_shape[0]} rows with missing market value\")\n"
   ]
  },
  {
   "cell_type": "code",
   "execution_count": 11,
   "id": "45c7acbe",
   "metadata": {},
   "outputs": [
    {
     "name": "stdout",
     "output_type": "stream",
     "text": [
      "✅ Saved: Transfermarkt-data/cleaned_final_data/ligue1_cleaned.csv\n",
      "✅ Saved: Transfermarkt-data/cleaned_final_data/premier_league_cleaned.csv\n",
      "✅ Saved: Transfermarkt-data/cleaned_final_data/serieA_cleaned.csv\n",
      "✅ Saved: Transfermarkt-data/cleaned_final_data/bundesliga_cleaned.csv\n",
      "✅ Saved: Transfermarkt-data/cleaned_final_data/liga_cleaned.csv\n"
     ]
    }
   ],
   "source": [
    "import os\n",
    "\n",
    "# Create output directory if it doesn't exist\n",
    "output_dir = \"Transfermarkt-data/cleaned_final_data\"\n",
    "os.makedirs(output_dir, exist_ok=True)\n",
    "\n",
    "# Save each DataFrame to CSV\n",
    "for league, df in dfs.items():\n",
    "    output_path = os.path.join(output_dir, f\"{league}_cleaned.csv\")\n",
    "    df.to_csv(output_path, index=False)\n",
    "    print(f\"✅ Saved: {output_path}\")\n"
   ]
  }
 ],
 "metadata": {
  "kernelspec": {
   "display_name": "venv",
   "language": "python",
   "name": "python3"
  },
  "language_info": {
   "codemirror_mode": {
    "name": "ipython",
    "version": 3
   },
   "file_extension": ".py",
   "mimetype": "text/x-python",
   "name": "python",
   "nbconvert_exporter": "python",
   "pygments_lexer": "ipython3",
   "version": "3.12.3"
  }
 },
 "nbformat": 4,
 "nbformat_minor": 5
}
