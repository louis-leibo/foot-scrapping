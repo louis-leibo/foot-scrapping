{
 "cells": [
  {
   "cell_type": "code",
   "execution_count": 5,
   "id": "82a4d966",
   "metadata": {},
   "outputs": [],
   "source": [
    "import pandas as pd\n",
    "import numpy as np\n",
    "import matplotlib.pyplot as plt\n",
    "import seaborn as sns\n"
   ]
  },
  {
   "cell_type": "code",
   "execution_count": 2,
   "id": "aecf3373",
   "metadata": {},
   "outputs": [],
   "source": [
    "df = pd.read_csv(\"Fbref-data/complete_dataset_ESP_La_Liga_2020.csv\")"
   ]
  },
  {
   "cell_type": "code",
   "execution_count": 3,
   "id": "64d42997",
   "metadata": {},
   "outputs": [
    {
     "name": "stdout",
     "output_type": "stream",
     "text": [
      "🔎 Shape of the dataset: (581, 162)\n",
      "\n",
      "📄 First 5 rows:\n"
     ]
    },
    {
     "data": {
      "text/html": [
       "<div>\n",
       "<style scoped>\n",
       "    .dataframe tbody tr th:only-of-type {\n",
       "        vertical-align: middle;\n",
       "    }\n",
       "\n",
       "    .dataframe tbody tr th {\n",
       "        vertical-align: top;\n",
       "    }\n",
       "\n",
       "    .dataframe thead th {\n",
       "        text-align: right;\n",
       "    }\n",
       "</style>\n",
       "<table border=\"1\" class=\"dataframe\">\n",
       "  <thead>\n",
       "    <tr style=\"text-align: right;\">\n",
       "      <th></th>\n",
       "      <th>league</th>\n",
       "      <th>season</th>\n",
       "      <th>team</th>\n",
       "      <th>player</th>\n",
       "      <th>nation</th>\n",
       "      <th>pos</th>\n",
       "      <th>age</th>\n",
       "      <th>born</th>\n",
       "      <th>Playing Time MP</th>\n",
       "      <th>Playing Time Starts</th>\n",
       "      <th>...</th>\n",
       "      <th>Carries TotDist</th>\n",
       "      <th>Carries PrgDist</th>\n",
       "      <th>Carries PrgC</th>\n",
       "      <th>Carries 1/3</th>\n",
       "      <th>Carries CPA</th>\n",
       "      <th>Carries Mis</th>\n",
       "      <th>Carries Dis</th>\n",
       "      <th>Receiving Rec</th>\n",
       "      <th>Receiving PrgR</th>\n",
       "      <th>stat_type_possession</th>\n",
       "    </tr>\n",
       "  </thead>\n",
       "  <tbody>\n",
       "    <tr>\n",
       "      <th>0</th>\n",
       "      <td>ESP-La Liga</td>\n",
       "      <td>2020</td>\n",
       "      <td>Granada</td>\n",
       "      <td>Aarón Escandell</td>\n",
       "      <td>ESP</td>\n",
       "      <td>GK</td>\n",
       "      <td>24</td>\n",
       "      <td>1995</td>\n",
       "      <td>5</td>\n",
       "      <td>5</td>\n",
       "      <td>...</td>\n",
       "      <td>522</td>\n",
       "      <td>309</td>\n",
       "      <td>0</td>\n",
       "      <td>0</td>\n",
       "      <td>0</td>\n",
       "      <td>0</td>\n",
       "      <td>0</td>\n",
       "      <td>49</td>\n",
       "      <td>0</td>\n",
       "      <td>possession</td>\n",
       "    </tr>\n",
       "    <tr>\n",
       "      <th>1</th>\n",
       "      <td>ESP-La Liga</td>\n",
       "      <td>2020</td>\n",
       "      <td>Celta Vigo</td>\n",
       "      <td>Aarón Martín</td>\n",
       "      <td>ESP</td>\n",
       "      <td>DF</td>\n",
       "      <td>23</td>\n",
       "      <td>1997</td>\n",
       "      <td>19</td>\n",
       "      <td>17</td>\n",
       "      <td>...</td>\n",
       "      <td>2261</td>\n",
       "      <td>1121</td>\n",
       "      <td>32</td>\n",
       "      <td>24</td>\n",
       "      <td>3</td>\n",
       "      <td>14</td>\n",
       "      <td>7</td>\n",
       "      <td>603</td>\n",
       "      <td>86</td>\n",
       "      <td>possession</td>\n",
       "    </tr>\n",
       "    <tr>\n",
       "      <th>2</th>\n",
       "      <td>ESP-La Liga</td>\n",
       "      <td>2020</td>\n",
       "      <td>Getafe</td>\n",
       "      <td>Abdoulay Diaby</td>\n",
       "      <td>MLI</td>\n",
       "      <td>DF</td>\n",
       "      <td>29</td>\n",
       "      <td>1991</td>\n",
       "      <td>1</td>\n",
       "      <td>0</td>\n",
       "      <td>...</td>\n",
       "      <td>94</td>\n",
       "      <td>50</td>\n",
       "      <td>2</td>\n",
       "      <td>1</td>\n",
       "      <td>0</td>\n",
       "      <td>0</td>\n",
       "      <td>1</td>\n",
       "      <td>11</td>\n",
       "      <td>4</td>\n",
       "      <td>possession</td>\n",
       "    </tr>\n",
       "    <tr>\n",
       "      <th>3</th>\n",
       "      <td>ESP-La Liga</td>\n",
       "      <td>2020</td>\n",
       "      <td>Real Sociedad</td>\n",
       "      <td>Adnan Januzaj</td>\n",
       "      <td>BEL</td>\n",
       "      <td>FW,MF</td>\n",
       "      <td>25</td>\n",
       "      <td>1995</td>\n",
       "      <td>27</td>\n",
       "      <td>12</td>\n",
       "      <td>...</td>\n",
       "      <td>3075</td>\n",
       "      <td>1574</td>\n",
       "      <td>45</td>\n",
       "      <td>39</td>\n",
       "      <td>10</td>\n",
       "      <td>36</td>\n",
       "      <td>22</td>\n",
       "      <td>557</td>\n",
       "      <td>116</td>\n",
       "      <td>possession</td>\n",
       "    </tr>\n",
       "    <tr>\n",
       "      <th>4</th>\n",
       "      <td>ESP-La Liga</td>\n",
       "      <td>2020</td>\n",
       "      <td>Osasuna</td>\n",
       "      <td>Adrián López</td>\n",
       "      <td>ESP</td>\n",
       "      <td>FW,MF</td>\n",
       "      <td>32</td>\n",
       "      <td>1988</td>\n",
       "      <td>17</td>\n",
       "      <td>5</td>\n",
       "      <td>...</td>\n",
       "      <td>905</td>\n",
       "      <td>335</td>\n",
       "      <td>12</td>\n",
       "      <td>11</td>\n",
       "      <td>6</td>\n",
       "      <td>22</td>\n",
       "      <td>9</td>\n",
       "      <td>201</td>\n",
       "      <td>43</td>\n",
       "      <td>possession</td>\n",
       "    </tr>\n",
       "  </tbody>\n",
       "</table>\n",
       "<p>5 rows × 162 columns</p>\n",
       "</div>"
      ],
      "text/plain": [
       "        league  season           team           player nation    pos  age  \\\n",
       "0  ESP-La Liga    2020        Granada  Aarón Escandell    ESP     GK   24   \n",
       "1  ESP-La Liga    2020     Celta Vigo     Aarón Martín    ESP     DF   23   \n",
       "2  ESP-La Liga    2020         Getafe   Abdoulay Diaby    MLI     DF   29   \n",
       "3  ESP-La Liga    2020  Real Sociedad    Adnan Januzaj    BEL  FW,MF   25   \n",
       "4  ESP-La Liga    2020        Osasuna     Adrián López    ESP  FW,MF   32   \n",
       "\n",
       "   born  Playing Time MP  Playing Time Starts  ...  Carries TotDist  \\\n",
       "0  1995                5                    5  ...              522   \n",
       "1  1997               19                   17  ...             2261   \n",
       "2  1991                1                    0  ...               94   \n",
       "3  1995               27                   12  ...             3075   \n",
       "4  1988               17                    5  ...              905   \n",
       "\n",
       "   Carries PrgDist  Carries PrgC  Carries 1/3  Carries CPA  Carries Mis  \\\n",
       "0              309             0            0            0            0   \n",
       "1             1121            32           24            3           14   \n",
       "2               50             2            1            0            0   \n",
       "3             1574            45           39           10           36   \n",
       "4              335            12           11            6           22   \n",
       "\n",
       "   Carries Dis  Receiving Rec  Receiving PrgR  stat_type_possession  \n",
       "0            0             49               0            possession  \n",
       "1            7            603              86            possession  \n",
       "2            1             11               4            possession  \n",
       "3           22            557             116            possession  \n",
       "4            9            201              43            possession  \n",
       "\n",
       "[5 rows x 162 columns]"
      ]
     },
     "metadata": {},
     "output_type": "display_data"
    },
    {
     "name": "stdout",
     "output_type": "stream",
     "text": [
      "\n",
      "🧠 Info:\n",
      "<class 'pandas.core.frame.DataFrame'>\n",
      "RangeIndex: 581 entries, 0 to 580\n",
      "Columns: 162 entries, league to stat_type_possession\n",
      "dtypes: float64(42), int64(99), object(21)\n",
      "memory usage: 735.5+ KB\n",
      "\n",
      "📊 Statistical Summary:\n"
     ]
    },
    {
     "data": {
      "text/html": [
       "<div>\n",
       "<style scoped>\n",
       "    .dataframe tbody tr th:only-of-type {\n",
       "        vertical-align: middle;\n",
       "    }\n",
       "\n",
       "    .dataframe tbody tr th {\n",
       "        vertical-align: top;\n",
       "    }\n",
       "\n",
       "    .dataframe thead th {\n",
       "        text-align: right;\n",
       "    }\n",
       "</style>\n",
       "<table border=\"1\" class=\"dataframe\">\n",
       "  <thead>\n",
       "    <tr style=\"text-align: right;\">\n",
       "      <th></th>\n",
       "      <th>league</th>\n",
       "      <th>season</th>\n",
       "      <th>team</th>\n",
       "      <th>player</th>\n",
       "      <th>nation</th>\n",
       "      <th>pos</th>\n",
       "      <th>age</th>\n",
       "      <th>born</th>\n",
       "      <th>Playing Time MP</th>\n",
       "      <th>Playing Time Starts</th>\n",
       "      <th>...</th>\n",
       "      <th>Carries TotDist</th>\n",
       "      <th>Carries PrgDist</th>\n",
       "      <th>Carries PrgC</th>\n",
       "      <th>Carries 1/3</th>\n",
       "      <th>Carries CPA</th>\n",
       "      <th>Carries Mis</th>\n",
       "      <th>Carries Dis</th>\n",
       "      <th>Receiving Rec</th>\n",
       "      <th>Receiving PrgR</th>\n",
       "      <th>stat_type_possession</th>\n",
       "    </tr>\n",
       "  </thead>\n",
       "  <tbody>\n",
       "    <tr>\n",
       "      <th>count</th>\n",
       "      <td>581</td>\n",
       "      <td>581.0</td>\n",
       "      <td>581</td>\n",
       "      <td>581</td>\n",
       "      <td>581</td>\n",
       "      <td>581</td>\n",
       "      <td>581.000000</td>\n",
       "      <td>581.000000</td>\n",
       "      <td>581.000000</td>\n",
       "      <td>581.000000</td>\n",
       "      <td>...</td>\n",
       "      <td>581.000000</td>\n",
       "      <td>581.000000</td>\n",
       "      <td>581.000000</td>\n",
       "      <td>581.000000</td>\n",
       "      <td>581.000000</td>\n",
       "      <td>581.000000</td>\n",
       "      <td>581.000000</td>\n",
       "      <td>581.000000</td>\n",
       "      <td>581.000000</td>\n",
       "      <td>581</td>\n",
       "    </tr>\n",
       "    <tr>\n",
       "      <th>unique</th>\n",
       "      <td>1</td>\n",
       "      <td>NaN</td>\n",
       "      <td>20</td>\n",
       "      <td>566</td>\n",
       "      <td>59</td>\n",
       "      <td>10</td>\n",
       "      <td>NaN</td>\n",
       "      <td>NaN</td>\n",
       "      <td>NaN</td>\n",
       "      <td>NaN</td>\n",
       "      <td>...</td>\n",
       "      <td>NaN</td>\n",
       "      <td>NaN</td>\n",
       "      <td>NaN</td>\n",
       "      <td>NaN</td>\n",
       "      <td>NaN</td>\n",
       "      <td>NaN</td>\n",
       "      <td>NaN</td>\n",
       "      <td>NaN</td>\n",
       "      <td>NaN</td>\n",
       "      <td>1</td>\n",
       "    </tr>\n",
       "    <tr>\n",
       "      <th>top</th>\n",
       "      <td>ESP-La Liga</td>\n",
       "      <td>NaN</td>\n",
       "      <td>Granada</td>\n",
       "      <td>Sofian Chakla</td>\n",
       "      <td>ESP</td>\n",
       "      <td>DF</td>\n",
       "      <td>NaN</td>\n",
       "      <td>NaN</td>\n",
       "      <td>NaN</td>\n",
       "      <td>NaN</td>\n",
       "      <td>...</td>\n",
       "      <td>NaN</td>\n",
       "      <td>NaN</td>\n",
       "      <td>NaN</td>\n",
       "      <td>NaN</td>\n",
       "      <td>NaN</td>\n",
       "      <td>NaN</td>\n",
       "      <td>NaN</td>\n",
       "      <td>NaN</td>\n",
       "      <td>NaN</td>\n",
       "      <td>possession</td>\n",
       "    </tr>\n",
       "    <tr>\n",
       "      <th>freq</th>\n",
       "      <td>581</td>\n",
       "      <td>NaN</td>\n",
       "      <td>34</td>\n",
       "      <td>2</td>\n",
       "      <td>359</td>\n",
       "      <td>170</td>\n",
       "      <td>NaN</td>\n",
       "      <td>NaN</td>\n",
       "      <td>NaN</td>\n",
       "      <td>NaN</td>\n",
       "      <td>...</td>\n",
       "      <td>NaN</td>\n",
       "      <td>NaN</td>\n",
       "      <td>NaN</td>\n",
       "      <td>NaN</td>\n",
       "      <td>NaN</td>\n",
       "      <td>NaN</td>\n",
       "      <td>NaN</td>\n",
       "      <td>NaN</td>\n",
       "      <td>NaN</td>\n",
       "      <td>581</td>\n",
       "    </tr>\n",
       "    <tr>\n",
       "      <th>mean</th>\n",
       "      <td>NaN</td>\n",
       "      <td>2020.0</td>\n",
       "      <td>NaN</td>\n",
       "      <td>NaN</td>\n",
       "      <td>NaN</td>\n",
       "      <td>NaN</td>\n",
       "      <td>25.931153</td>\n",
       "      <td>1993.774527</td>\n",
       "      <td>19.974182</td>\n",
       "      <td>14.387263</td>\n",
       "      <td>...</td>\n",
       "      <td>2169.290878</td>\n",
       "      <td>1107.820998</td>\n",
       "      <td>20.683305</td>\n",
       "      <td>16.242685</td>\n",
       "      <td>4.652324</td>\n",
       "      <td>18.833046</td>\n",
       "      <td>10.991394</td>\n",
       "      <td>481.588640</td>\n",
       "      <td>46.051635</td>\n",
       "      <td>NaN</td>\n",
       "    </tr>\n",
       "    <tr>\n",
       "      <th>std</th>\n",
       "      <td>NaN</td>\n",
       "      <td>0.0</td>\n",
       "      <td>NaN</td>\n",
       "      <td>NaN</td>\n",
       "      <td>NaN</td>\n",
       "      <td>NaN</td>\n",
       "      <td>4.562449</td>\n",
       "      <td>4.551518</td>\n",
       "      <td>11.683514</td>\n",
       "      <td>11.337143</td>\n",
       "      <td>...</td>\n",
       "      <td>2018.916626</td>\n",
       "      <td>1114.881029</td>\n",
       "      <td>25.763705</td>\n",
       "      <td>20.097125</td>\n",
       "      <td>8.654456</td>\n",
       "      <td>20.928730</td>\n",
       "      <td>13.305493</td>\n",
       "      <td>449.909854</td>\n",
       "      <td>60.773469</td>\n",
       "      <td>NaN</td>\n",
       "    </tr>\n",
       "    <tr>\n",
       "      <th>min</th>\n",
       "      <td>NaN</td>\n",
       "      <td>2020.0</td>\n",
       "      <td>NaN</td>\n",
       "      <td>NaN</td>\n",
       "      <td>NaN</td>\n",
       "      <td>NaN</td>\n",
       "      <td>16.000000</td>\n",
       "      <td>1979.000000</td>\n",
       "      <td>1.000000</td>\n",
       "      <td>0.000000</td>\n",
       "      <td>...</td>\n",
       "      <td>0.000000</td>\n",
       "      <td>0.000000</td>\n",
       "      <td>0.000000</td>\n",
       "      <td>0.000000</td>\n",
       "      <td>0.000000</td>\n",
       "      <td>0.000000</td>\n",
       "      <td>0.000000</td>\n",
       "      <td>0.000000</td>\n",
       "      <td>0.000000</td>\n",
       "      <td>NaN</td>\n",
       "    </tr>\n",
       "    <tr>\n",
       "      <th>25%</th>\n",
       "      <td>NaN</td>\n",
       "      <td>2020.0</td>\n",
       "      <td>NaN</td>\n",
       "      <td>NaN</td>\n",
       "      <td>NaN</td>\n",
       "      <td>NaN</td>\n",
       "      <td>22.000000</td>\n",
       "      <td>1991.000000</td>\n",
       "      <td>10.000000</td>\n",
       "      <td>4.000000</td>\n",
       "      <td>...</td>\n",
       "      <td>547.000000</td>\n",
       "      <td>241.000000</td>\n",
       "      <td>2.000000</td>\n",
       "      <td>2.000000</td>\n",
       "      <td>0.000000</td>\n",
       "      <td>3.000000</td>\n",
       "      <td>1.000000</td>\n",
       "      <td>123.000000</td>\n",
       "      <td>3.000000</td>\n",
       "      <td>NaN</td>\n",
       "    </tr>\n",
       "    <tr>\n",
       "      <th>50%</th>\n",
       "      <td>NaN</td>\n",
       "      <td>2020.0</td>\n",
       "      <td>NaN</td>\n",
       "      <td>NaN</td>\n",
       "      <td>NaN</td>\n",
       "      <td>NaN</td>\n",
       "      <td>26.000000</td>\n",
       "      <td>1994.000000</td>\n",
       "      <td>22.000000</td>\n",
       "      <td>13.000000</td>\n",
       "      <td>...</td>\n",
       "      <td>1676.000000</td>\n",
       "      <td>803.000000</td>\n",
       "      <td>12.000000</td>\n",
       "      <td>9.000000</td>\n",
       "      <td>1.000000</td>\n",
       "      <td>11.000000</td>\n",
       "      <td>6.000000</td>\n",
       "      <td>375.000000</td>\n",
       "      <td>20.000000</td>\n",
       "      <td>NaN</td>\n",
       "    </tr>\n",
       "    <tr>\n",
       "      <th>75%</th>\n",
       "      <td>NaN</td>\n",
       "      <td>2020.0</td>\n",
       "      <td>NaN</td>\n",
       "      <td>NaN</td>\n",
       "      <td>NaN</td>\n",
       "      <td>NaN</td>\n",
       "      <td>29.000000</td>\n",
       "      <td>1997.000000</td>\n",
       "      <td>31.000000</td>\n",
       "      <td>24.000000</td>\n",
       "      <td>...</td>\n",
       "      <td>3199.000000</td>\n",
       "      <td>1641.000000</td>\n",
       "      <td>30.000000</td>\n",
       "      <td>24.000000</td>\n",
       "      <td>5.000000</td>\n",
       "      <td>29.000000</td>\n",
       "      <td>16.000000</td>\n",
       "      <td>695.000000</td>\n",
       "      <td>68.000000</td>\n",
       "      <td>NaN</td>\n",
       "    </tr>\n",
       "    <tr>\n",
       "      <th>max</th>\n",
       "      <td>NaN</td>\n",
       "      <td>2020.0</td>\n",
       "      <td>NaN</td>\n",
       "      <td>NaN</td>\n",
       "      <td>NaN</td>\n",
       "      <td>NaN</td>\n",
       "      <td>41.000000</td>\n",
       "      <td>2004.000000</td>\n",
       "      <td>38.000000</td>\n",
       "      <td>38.000000</td>\n",
       "      <td>...</td>\n",
       "      <td>13045.000000</td>\n",
       "      <td>7334.000000</td>\n",
       "      <td>215.000000</td>\n",
       "      <td>222.000000</td>\n",
       "      <td>65.000000</td>\n",
       "      <td>163.000000</td>\n",
       "      <td>87.000000</td>\n",
       "      <td>2519.000000</td>\n",
       "      <td>354.000000</td>\n",
       "      <td>NaN</td>\n",
       "    </tr>\n",
       "  </tbody>\n",
       "</table>\n",
       "<p>11 rows × 162 columns</p>\n",
       "</div>"
      ],
      "text/plain": [
       "             league  season     team         player nation  pos         age  \\\n",
       "count           581   581.0      581            581    581  581  581.000000   \n",
       "unique            1     NaN       20            566     59   10         NaN   \n",
       "top     ESP-La Liga     NaN  Granada  Sofian Chakla    ESP   DF         NaN   \n",
       "freq            581     NaN       34              2    359  170         NaN   \n",
       "mean            NaN  2020.0      NaN            NaN    NaN  NaN   25.931153   \n",
       "std             NaN     0.0      NaN            NaN    NaN  NaN    4.562449   \n",
       "min             NaN  2020.0      NaN            NaN    NaN  NaN   16.000000   \n",
       "25%             NaN  2020.0      NaN            NaN    NaN  NaN   22.000000   \n",
       "50%             NaN  2020.0      NaN            NaN    NaN  NaN   26.000000   \n",
       "75%             NaN  2020.0      NaN            NaN    NaN  NaN   29.000000   \n",
       "max             NaN  2020.0      NaN            NaN    NaN  NaN   41.000000   \n",
       "\n",
       "               born  Playing Time MP  Playing Time Starts  ...  \\\n",
       "count    581.000000       581.000000           581.000000  ...   \n",
       "unique          NaN              NaN                  NaN  ...   \n",
       "top             NaN              NaN                  NaN  ...   \n",
       "freq            NaN              NaN                  NaN  ...   \n",
       "mean    1993.774527        19.974182            14.387263  ...   \n",
       "std        4.551518        11.683514            11.337143  ...   \n",
       "min     1979.000000         1.000000             0.000000  ...   \n",
       "25%     1991.000000        10.000000             4.000000  ...   \n",
       "50%     1994.000000        22.000000            13.000000  ...   \n",
       "75%     1997.000000        31.000000            24.000000  ...   \n",
       "max     2004.000000        38.000000            38.000000  ...   \n",
       "\n",
       "        Carries TotDist  Carries PrgDist  Carries PrgC  Carries 1/3  \\\n",
       "count        581.000000       581.000000    581.000000   581.000000   \n",
       "unique              NaN              NaN           NaN          NaN   \n",
       "top                 NaN              NaN           NaN          NaN   \n",
       "freq                NaN              NaN           NaN          NaN   \n",
       "mean        2169.290878      1107.820998     20.683305    16.242685   \n",
       "std         2018.916626      1114.881029     25.763705    20.097125   \n",
       "min            0.000000         0.000000      0.000000     0.000000   \n",
       "25%          547.000000       241.000000      2.000000     2.000000   \n",
       "50%         1676.000000       803.000000     12.000000     9.000000   \n",
       "75%         3199.000000      1641.000000     30.000000    24.000000   \n",
       "max        13045.000000      7334.000000    215.000000   222.000000   \n",
       "\n",
       "        Carries CPA  Carries Mis  Carries Dis  Receiving Rec  Receiving PrgR  \\\n",
       "count    581.000000   581.000000   581.000000     581.000000      581.000000   \n",
       "unique          NaN          NaN          NaN            NaN             NaN   \n",
       "top             NaN          NaN          NaN            NaN             NaN   \n",
       "freq            NaN          NaN          NaN            NaN             NaN   \n",
       "mean       4.652324    18.833046    10.991394     481.588640       46.051635   \n",
       "std        8.654456    20.928730    13.305493     449.909854       60.773469   \n",
       "min        0.000000     0.000000     0.000000       0.000000        0.000000   \n",
       "25%        0.000000     3.000000     1.000000     123.000000        3.000000   \n",
       "50%        1.000000    11.000000     6.000000     375.000000       20.000000   \n",
       "75%        5.000000    29.000000    16.000000     695.000000       68.000000   \n",
       "max       65.000000   163.000000    87.000000    2519.000000      354.000000   \n",
       "\n",
       "        stat_type_possession  \n",
       "count                    581  \n",
       "unique                     1  \n",
       "top               possession  \n",
       "freq                     581  \n",
       "mean                     NaN  \n",
       "std                      NaN  \n",
       "min                      NaN  \n",
       "25%                      NaN  \n",
       "50%                      NaN  \n",
       "75%                      NaN  \n",
       "max                      NaN  \n",
       "\n",
       "[11 rows x 162 columns]"
      ]
     },
     "metadata": {},
     "output_type": "display_data"
    },
    {
     "name": "stdout",
     "output_type": "stream",
     "text": [
      "\n",
      "🧼 Missing Values:\n"
     ]
    },
    {
     "data": {
      "text/plain": [
       "Standard G/SoT          193\n",
       "Standard SoT%           102\n",
       "Standard G/Sh           102\n",
       "Standard Dist           102\n",
       "Expected npxG/Sh        102\n",
       "                       ... \n",
       "Carries Mis               0\n",
       "Carries Dis               0\n",
       "Receiving Rec             0\n",
       "Receiving PrgR            0\n",
       "stat_type_possession      0\n",
       "Length: 162, dtype: int64"
      ]
     },
     "metadata": {},
     "output_type": "display_data"
    },
    {
     "name": "stdout",
     "output_type": "stream",
     "text": [
      "\n",
      "🪞 Number of Duplicate Rows: 0\n",
      "\n",
      "🔢 Column Data Types:\n"
     ]
    },
    {
     "data": {
      "text/plain": [
       "league                  object\n",
       "season                   int64\n",
       "team                    object\n",
       "player                  object\n",
       "nation                  object\n",
       "                         ...  \n",
       "Carries Mis              int64\n",
       "Carries Dis              int64\n",
       "Receiving Rec            int64\n",
       "Receiving PrgR           int64\n",
       "stat_type_possession    object\n",
       "Length: 162, dtype: object"
      ]
     },
     "metadata": {},
     "output_type": "display_data"
    },
    {
     "name": "stdout",
     "output_type": "stream",
     "text": [
      "\n",
      "🧬 Unique Values Per Column:\n"
     ]
    },
    {
     "data": {
      "text/plain": [
       "Total TotDist           568\n",
       "player                  566\n",
       "Carries TotDist         541\n",
       "Total PrgDist           536\n",
       "Playing Time Min        512\n",
       "                       ... \n",
       "stat_type_shooting        1\n",
       "stat_type_misc            1\n",
       "stat_type_defense         1\n",
       "stat_type_passing         1\n",
       "stat_type_possession      1\n",
       "Length: 162, dtype: int64"
      ]
     },
     "metadata": {},
     "output_type": "display_data"
    }
   ],
   "source": [
    "# 📌 Basic Info\n",
    "print(\"🔎 Shape of the dataset:\", df.shape)\n",
    "print(\"\\n📄 First 5 rows:\")\n",
    "display(df.head())\n",
    "\n",
    "print(\"\\n🧠 Info:\")\n",
    "df.info()\n",
    "\n",
    "print(\"\\n📊 Statistical Summary:\")\n",
    "display(df.describe(include='all'))\n",
    "\n",
    "# 🧹 Missing Values\n",
    "print(\"\\n🧼 Missing Values:\")\n",
    "display(df.isnull().sum().sort_values(ascending=False))\n",
    "\n",
    "# 🆔 Duplicates\n",
    "print(\"\\n🪞 Number of Duplicate Rows:\", df.duplicated().sum())\n",
    "\n",
    "# 📊 Data Types\n",
    "print(\"\\n🔢 Column Data Types:\")\n",
    "display(df.dtypes)\n",
    "\n",
    "# 🧮 Unique Values\n",
    "print(\"\\n🧬 Unique Values Per Column:\")\n",
    "display(df.nunique().sort_values(ascending=False))"
   ]
  },
  {
   "cell_type": "code",
   "execution_count": 8,
   "id": "436e5dde",
   "metadata": {},
   "outputs": [
    {
     "name": "stdout",
     "output_type": "stream",
     "text": [
      "\n",
      "🧾 Value counts for: league\n"
     ]
    },
    {
     "data": {
      "text/plain": [
       "league\n",
       "ESP-La Liga    581\n",
       "Name: count, dtype: int64"
      ]
     },
     "metadata": {},
     "output_type": "display_data"
    },
    {
     "name": "stdout",
     "output_type": "stream",
     "text": [
      "--------------------------------------------------\n",
      "\n",
      "🧾 Value counts for: team\n"
     ]
    },
    {
     "data": {
      "text/plain": [
       "team\n",
       "Granada          34\n",
       "Cádiz            34\n",
       "Valladolid       32\n",
       "Getafe           31\n",
       "Real Sociedad    30\n",
       "Celta Vigo       30\n",
       "Valencia         30\n",
       "Eibar            30\n",
       "Real Madrid      30\n",
       "Elche            30\n",
       "Name: count, dtype: int64"
      ]
     },
     "metadata": {},
     "output_type": "display_data"
    },
    {
     "name": "stdout",
     "output_type": "stream",
     "text": [
      "--------------------------------------------------\n",
      "\n",
      "🧾 Value counts for: player\n"
     ]
    },
    {
     "data": {
      "text/plain": [
       "player\n",
       "Sofian Chakla         2\n",
       "Carlos Fernández      2\n",
       "Kenan Kodro           2\n",
       "Adrián Marín          2\n",
       "Carles Aleñá          2\n",
       "Geoffrey Kondogbia    2\n",
       "Iñigo Córdoba         2\n",
       "Jota                  2\n",
       "Lucas Olaza           2\n",
       "Bryan Gil             2\n",
       "Name: count, dtype: int64"
      ]
     },
     "metadata": {},
     "output_type": "display_data"
    },
    {
     "name": "stdout",
     "output_type": "stream",
     "text": [
      "--------------------------------------------------\n",
      "\n",
      "🧾 Value counts for: nation\n"
     ]
    },
    {
     "data": {
      "text/plain": [
       "nation\n",
       "ESP    359\n",
       "ARG     29\n",
       "FRA     20\n",
       "BRA     19\n",
       "URU     17\n",
       "POR     16\n",
       "SRB      9\n",
       "MAR      7\n",
       "COL      7\n",
       "GHA      6\n",
       "Name: count, dtype: int64"
      ]
     },
     "metadata": {},
     "output_type": "display_data"
    },
    {
     "name": "stdout",
     "output_type": "stream",
     "text": [
      "--------------------------------------------------\n",
      "\n",
      "🧾 Value counts for: pos\n"
     ]
    },
    {
     "data": {
      "text/plain": [
       "pos\n",
       "DF       170\n",
       "MF       132\n",
       "FW        73\n",
       "MF,FW     62\n",
       "FW,MF     52\n",
       "GK        41\n",
       "DF,MF     23\n",
       "MF,DF     18\n",
       "DF,FW      6\n",
       "FW,DF      4\n",
       "Name: count, dtype: int64"
      ]
     },
     "metadata": {},
     "output_type": "display_data"
    },
    {
     "name": "stdout",
     "output_type": "stream",
     "text": [
      "--------------------------------------------------\n",
      "\n",
      "🧾 Value counts for: stat_type\n"
     ]
    },
    {
     "data": {
      "text/plain": [
       "stat_type\n",
       "standard    581\n",
       "Name: count, dtype: int64"
      ]
     },
     "metadata": {},
     "output_type": "display_data"
    },
    {
     "name": "stdout",
     "output_type": "stream",
     "text": [
      "--------------------------------------------------\n",
      "\n",
      "🧾 Value counts for: nation_shooting\n"
     ]
    },
    {
     "data": {
      "text/plain": [
       "nation_shooting\n",
       "ESP    359\n",
       "ARG     29\n",
       "FRA     20\n",
       "BRA     19\n",
       "URU     17\n",
       "POR     16\n",
       "SRB      9\n",
       "MAR      7\n",
       "COL      7\n",
       "GHA      6\n",
       "Name: count, dtype: int64"
      ]
     },
     "metadata": {},
     "output_type": "display_data"
    },
    {
     "name": "stdout",
     "output_type": "stream",
     "text": [
      "--------------------------------------------------\n",
      "\n",
      "🧾 Value counts for: pos_shooting\n"
     ]
    },
    {
     "data": {
      "text/plain": [
       "pos_shooting\n",
       "DF       170\n",
       "MF       132\n",
       "FW        73\n",
       "MF,FW     62\n",
       "FW,MF     52\n",
       "GK        41\n",
       "DF,MF     23\n",
       "MF,DF     18\n",
       "DF,FW      6\n",
       "FW,DF      4\n",
       "Name: count, dtype: int64"
      ]
     },
     "metadata": {},
     "output_type": "display_data"
    },
    {
     "name": "stdout",
     "output_type": "stream",
     "text": [
      "--------------------------------------------------\n",
      "\n",
      "🧾 Value counts for: stat_type_shooting\n"
     ]
    },
    {
     "data": {
      "text/plain": [
       "stat_type_shooting\n",
       "shooting    581\n",
       "Name: count, dtype: int64"
      ]
     },
     "metadata": {},
     "output_type": "display_data"
    },
    {
     "name": "stdout",
     "output_type": "stream",
     "text": [
      "--------------------------------------------------\n",
      "\n",
      "🧾 Value counts for: nation_misc\n"
     ]
    },
    {
     "data": {
      "text/plain": [
       "nation_misc\n",
       "ESP    359\n",
       "ARG     29\n",
       "FRA     20\n",
       "BRA     19\n",
       "URU     17\n",
       "POR     16\n",
       "SRB      9\n",
       "MAR      7\n",
       "COL      7\n",
       "GHA      6\n",
       "Name: count, dtype: int64"
      ]
     },
     "metadata": {},
     "output_type": "display_data"
    },
    {
     "name": "stdout",
     "output_type": "stream",
     "text": [
      "--------------------------------------------------\n",
      "\n",
      "🧾 Value counts for: pos_misc\n"
     ]
    },
    {
     "data": {
      "text/plain": [
       "pos_misc\n",
       "DF       170\n",
       "MF       132\n",
       "FW        73\n",
       "MF,FW     62\n",
       "FW,MF     52\n",
       "GK        41\n",
       "DF,MF     23\n",
       "MF,DF     18\n",
       "DF,FW      6\n",
       "FW,DF      4\n",
       "Name: count, dtype: int64"
      ]
     },
     "metadata": {},
     "output_type": "display_data"
    },
    {
     "name": "stdout",
     "output_type": "stream",
     "text": [
      "--------------------------------------------------\n",
      "\n",
      "🧾 Value counts for: stat_type_misc\n"
     ]
    },
    {
     "data": {
      "text/plain": [
       "stat_type_misc\n",
       "misc    581\n",
       "Name: count, dtype: int64"
      ]
     },
     "metadata": {},
     "output_type": "display_data"
    },
    {
     "name": "stdout",
     "output_type": "stream",
     "text": [
      "--------------------------------------------------\n",
      "\n",
      "🧾 Value counts for: nation_defense\n"
     ]
    },
    {
     "data": {
      "text/plain": [
       "nation_defense\n",
       "ESP    359\n",
       "ARG     29\n",
       "FRA     20\n",
       "BRA     19\n",
       "URU     17\n",
       "POR     16\n",
       "SRB      9\n",
       "MAR      7\n",
       "COL      7\n",
       "GHA      6\n",
       "Name: count, dtype: int64"
      ]
     },
     "metadata": {},
     "output_type": "display_data"
    },
    {
     "name": "stdout",
     "output_type": "stream",
     "text": [
      "--------------------------------------------------\n",
      "\n",
      "🧾 Value counts for: pos_defense\n"
     ]
    },
    {
     "data": {
      "text/plain": [
       "pos_defense\n",
       "DF       170\n",
       "MF       132\n",
       "FW        73\n",
       "MF,FW     62\n",
       "FW,MF     52\n",
       "GK        41\n",
       "DF,MF     23\n",
       "MF,DF     18\n",
       "DF,FW      6\n",
       "FW,DF      4\n",
       "Name: count, dtype: int64"
      ]
     },
     "metadata": {},
     "output_type": "display_data"
    },
    {
     "name": "stdout",
     "output_type": "stream",
     "text": [
      "--------------------------------------------------\n",
      "\n",
      "🧾 Value counts for: stat_type_defense\n"
     ]
    },
    {
     "data": {
      "text/plain": [
       "stat_type_defense\n",
       "defense    581\n",
       "Name: count, dtype: int64"
      ]
     },
     "metadata": {},
     "output_type": "display_data"
    },
    {
     "name": "stdout",
     "output_type": "stream",
     "text": [
      "--------------------------------------------------\n",
      "\n",
      "🧾 Value counts for: nation_passing\n"
     ]
    },
    {
     "data": {
      "text/plain": [
       "nation_passing\n",
       "ESP    359\n",
       "ARG     29\n",
       "FRA     20\n",
       "BRA     19\n",
       "URU     17\n",
       "POR     16\n",
       "SRB      9\n",
       "MAR      7\n",
       "COL      7\n",
       "GHA      6\n",
       "Name: count, dtype: int64"
      ]
     },
     "metadata": {},
     "output_type": "display_data"
    },
    {
     "name": "stdout",
     "output_type": "stream",
     "text": [
      "--------------------------------------------------\n",
      "\n",
      "🧾 Value counts for: pos_passing\n"
     ]
    },
    {
     "data": {
      "text/plain": [
       "pos_passing\n",
       "DF       170\n",
       "MF       132\n",
       "FW        73\n",
       "MF,FW     62\n",
       "FW,MF     52\n",
       "GK        41\n",
       "DF,MF     23\n",
       "MF,DF     18\n",
       "DF,FW      6\n",
       "FW,DF      4\n",
       "Name: count, dtype: int64"
      ]
     },
     "metadata": {},
     "output_type": "display_data"
    },
    {
     "name": "stdout",
     "output_type": "stream",
     "text": [
      "--------------------------------------------------\n",
      "\n",
      "🧾 Value counts for: stat_type_passing\n"
     ]
    },
    {
     "data": {
      "text/plain": [
       "stat_type_passing\n",
       "passing    581\n",
       "Name: count, dtype: int64"
      ]
     },
     "metadata": {},
     "output_type": "display_data"
    },
    {
     "name": "stdout",
     "output_type": "stream",
     "text": [
      "--------------------------------------------------\n",
      "\n",
      "🧾 Value counts for: nation_possession\n"
     ]
    },
    {
     "data": {
      "text/plain": [
       "nation_possession\n",
       "ESP    359\n",
       "ARG     29\n",
       "FRA     20\n",
       "BRA     19\n",
       "URU     17\n",
       "POR     16\n",
       "SRB      9\n",
       "MAR      7\n",
       "COL      7\n",
       "GHA      6\n",
       "Name: count, dtype: int64"
      ]
     },
     "metadata": {},
     "output_type": "display_data"
    },
    {
     "name": "stdout",
     "output_type": "stream",
     "text": [
      "--------------------------------------------------\n",
      "\n",
      "🧾 Value counts for: pos_possession\n"
     ]
    },
    {
     "data": {
      "text/plain": [
       "pos_possession\n",
       "DF       170\n",
       "MF       132\n",
       "FW        73\n",
       "MF,FW     62\n",
       "FW,MF     52\n",
       "GK        41\n",
       "DF,MF     23\n",
       "MF,DF     18\n",
       "DF,FW      6\n",
       "FW,DF      4\n",
       "Name: count, dtype: int64"
      ]
     },
     "metadata": {},
     "output_type": "display_data"
    },
    {
     "name": "stdout",
     "output_type": "stream",
     "text": [
      "--------------------------------------------------\n",
      "\n",
      "🧾 Value counts for: stat_type_possession\n"
     ]
    },
    {
     "data": {
      "text/plain": [
       "stat_type_possession\n",
       "possession    581\n",
       "Name: count, dtype: int64"
      ]
     },
     "metadata": {},
     "output_type": "display_data"
    },
    {
     "name": "stdout",
     "output_type": "stream",
     "text": [
      "--------------------------------------------------\n"
     ]
    }
   ],
   "source": [
    "# 🧠 Value Counts for Object (Categorical) Columns\n",
    "cat_cols = df.select_dtypes(include='object').columns\n",
    "for col in cat_cols:\n",
    "    print(f\"\\n🧾 Value counts for: {col}\")\n",
    "    display(df[col].value_counts().head(10))\n",
    "    print(\"-\" * 50)"
   ]
  },
  {
   "cell_type": "code",
   "execution_count": 9,
   "id": "429bc6bb",
   "metadata": {},
   "outputs": [
    {
     "data": {
      "text/plain": [
       "Standard G/SoT       33.218589\n",
       "Standard SoT%        17.555938\n",
       "Standard G/Sh        17.555938\n",
       "Standard Dist        17.555938\n",
       "Expected npxG/Sh     17.555938\n",
       "Take-Ons Succ%       16.179002\n",
       "Take-Ons Tkld%       16.179002\n",
       "Challenges Tkl%       8.605852\n",
       "Aerial Duels Won%     5.507745\n",
       "Long Cmp%             4.475043\n",
       "Medium Cmp%           1.721170\n",
       "Short Cmp%            1.376936\n",
       "Total Cmp%            0.688468\n",
       "dtype: float64"
      ]
     },
     "execution_count": 9,
     "metadata": {},
     "output_type": "execute_result"
    }
   ],
   "source": [
    "# Percent of missing values\n",
    "missing_ratio = df.isnull().mean() * 100\n",
    "missing_ratio[missing_ratio > 0].sort_values(ascending=False)\n"
   ]
  },
  {
   "cell_type": "code",
   "execution_count": 10,
   "id": "6a889e36",
   "metadata": {},
   "outputs": [
    {
     "name": "stdout",
     "output_type": "stream",
     "text": [
      "Constant columns: ['league', 'season', 'stat_type', 'stat_type_shooting', 'stat_type_misc', 'stat_type_defense', 'stat_type_passing', 'stat_type_possession']\n"
     ]
    }
   ],
   "source": [
    "constant_cols = [col for col in df.columns if df[col].nunique() == 1]\n",
    "print(\"Constant columns:\", constant_cols)\n"
   ]
  },
  {
   "cell_type": "code",
   "execution_count": 14,
   "id": "5c601e37",
   "metadata": {},
   "outputs": [
    {
     "name": "stdout",
     "output_type": "stream",
     "text": [
      "Number of duplicate player names: 15\n"
     ]
    },
    {
     "data": {
      "text/plain": [
       "player\n",
       "Sofian Chakla         2\n",
       "Carlos Fernández      2\n",
       "Kenan Kodro           2\n",
       "Adrián Marín          2\n",
       "Carles Aleñá          2\n",
       "Geoffrey Kondogbia    2\n",
       "Iñigo Córdoba         2\n",
       "Jota                  2\n",
       "Lucas Olaza           2\n",
       "Bryan Gil             2\n",
       "Name: count, dtype: int64"
      ]
     },
     "metadata": {},
     "output_type": "display_data"
    }
   ],
   "source": [
    "# Check how many times each player appears\n",
    "player_counts = df['player'].value_counts()\n",
    "duplicate_players = player_counts[player_counts > 1]\n",
    "\n",
    "print(f\"Number of duplicate player names: {len(duplicate_players)}\")\n",
    "display(duplicate_players.head(10))\n"
   ]
  }
 ],
 "metadata": {
  "kernelspec": {
   "display_name": "venv",
   "language": "python",
   "name": "python3"
  },
  "language_info": {
   "codemirror_mode": {
    "name": "ipython",
    "version": 3
   },
   "file_extension": ".py",
   "mimetype": "text/x-python",
   "name": "python",
   "nbconvert_exporter": "python",
   "pygments_lexer": "ipython3",
   "version": "3.12.3"
  }
 },
 "nbformat": 4,
 "nbformat_minor": 5
}
